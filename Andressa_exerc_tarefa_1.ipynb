{
  "cells": [
    {
      "cell_type": "markdown",
      "metadata": {
        "id": "view-in-github",
        "colab_type": "text"
      },
      "source": [
        "<a href=\"https://colab.research.google.com/github/AtelliAndressa/Fatec-Python/blob/main/Andressa_exerc_tarefa_1.ipynb\" target=\"_parent\"><img src=\"https://colab.research.google.com/assets/colab-badge.svg\" alt=\"Open In Colab\"/></a>"
      ]
    },
    {
      "cell_type": "markdown",
      "metadata": {
        "id": "PHVqC5w04QHJ"
      },
      "source": [
        "<img src=\"img/logo_fatec.png\">\n"
      ]
    },
    {
      "cell_type": "markdown",
      "metadata": {
        "id": "5bRgmbVR4QHM"
      },
      "source": [
        "# Disciplina: Algoritmos e Introdução a Computação\n",
        "   "
      ]
    },
    {
      "cell_type": "code",
      "execution_count": null,
      "metadata": {
        "id": "cl_OFFUd4QHO"
      },
      "outputs": [],
      "source": [
        "# Prof. Rafael Christófano\n",
        "# Turma: 2020-2"
      ]
    },
    {
      "cell_type": "code",
      "execution_count": null,
      "metadata": {
        "id": "t3eeGPW54QHR"
      },
      "outputs": [],
      "source": [
        "# Aluno: Andressa Flavia Atelli de Sá"
      ]
    },
    {
      "cell_type": "markdown",
      "metadata": {
        "id": "iqvtEIV84QHS"
      },
      "source": [
        "# Primeira Lista de Exercícios em Python"
      ]
    },
    {
      "cell_type": "code",
      "execution_count": null,
      "metadata": {
        "id": "YQ5QFLNI4QHT"
      },
      "outputs": [],
      "source": [
        "# 1 - Faça um Programa que mostre a mensagem \"Hello World - This is my first code. \\n Many other will come!\" na tela.\n",
        "# Obs: O \\n no meio do texto é para pular para próxima linha"
      ]
    },
    {
      "cell_type": "code",
      "execution_count": null,
      "metadata": {
        "id": "-oiM8pMy4QHU",
        "outputId": "44255d6b-5446-40b6-dd95-446e93087ce3"
      },
      "outputs": [
        {
          "name": "stdout",
          "output_type": "stream",
          "text": [
            "Hello World - This is my first code. \n",
            " Many other will come!\n"
          ]
        }
      ],
      "source": [
        "print(\"Hello World - This is my first code. \\n Many other will come!\")"
      ]
    },
    {
      "cell_type": "code",
      "execution_count": null,
      "metadata": {
        "id": "KGeeBtt14QHW"
      },
      "outputs": [],
      "source": [
        "# 2 - Faça um Programa que peça um número e então mostre a mensagem O número informado foi [número]."
      ]
    },
    {
      "cell_type": "code",
      "execution_count": null,
      "metadata": {
        "id": "jscUS8y94QHX",
        "outputId": "b67eff4b-cb89-461b-cd41-0a85be9f2461"
      },
      "outputs": [
        {
          "name": "stdout",
          "output_type": "stream",
          "text": [
            "Digite um número: 8\n",
            "O número digitado é:  8\n"
          ]
        }
      ],
      "source": [
        "numero = input(\"Digite um número: \")\n",
        "print(\"O número digitado é: \", numero)"
      ]
    },
    {
      "cell_type": "code",
      "execution_count": null,
      "metadata": {
        "id": "C1klagj_4QHY"
      },
      "outputs": [],
      "source": [
        "# 3 - Faça um Programa que peça dois números e imprima a soma."
      ]
    },
    {
      "cell_type": "code",
      "execution_count": null,
      "metadata": {
        "id": "vqVIgJXo4QHZ",
        "outputId": "2275529a-1083-4fa0-cd70-a276c8554991"
      },
      "outputs": [
        {
          "name": "stdout",
          "output_type": "stream",
          "text": [
            "Digite um numero: 3\n",
            "Digite mais um numero: 9\n",
            "A soma entre o numero  3  e o numero  9  é  12\n"
          ]
        }
      ],
      "source": [
        "n1 = int(input(\"Digite um numero: \"))\n",
        "n2 = int(input(\"Digite mais um numero: \"))\n",
        "soma = n1 + n2\n",
        "print(\"A soma entre o numero \", n1, \" e o numero \", n2, \" é \", soma)\n"
      ]
    },
    {
      "cell_type": "code",
      "execution_count": null,
      "metadata": {
        "id": "PqcCihx44QHa"
      },
      "outputs": [],
      "source": [
        "# 4 - Faça um Programa que peça as 4 notas bimestrais e mostre a média."
      ]
    },
    {
      "cell_type": "code",
      "execution_count": null,
      "metadata": {
        "id": "UYgN4aYy4QHa",
        "outputId": "bb270e05-4ee8-4574-a7e2-c13e75a7c75e"
      },
      "outputs": [
        {
          "name": "stdout",
          "output_type": "stream",
          "text": [
            "Digite a primeira Nota: 7.5\n",
            "Digite a segunda Nota: 8.5\n",
            "Digite a terceira Nota: 9.\n",
            "Digite a quarta Nota: 10\n",
            "A média das 4 notas bimestrais é:  8.75\n"
          ]
        }
      ],
      "source": [
        "n1 = float(input(\"Digite a primeira Nota: \"))\n",
        "n2 = float(input(\"Digite a segunda Nota: \"))\n",
        "n3 = float(input(\"Digite a terceira Nota: \"))\n",
        "n4 = float(input(\"Digite a quarta Nota: \"))\n",
        "media = (n1 + n2 + n3 + n4) / 4\n",
        "print (\"A média das 4 notas bimestrais é: \", round(media, 2))"
      ]
    },
    {
      "cell_type": "code",
      "execution_count": null,
      "metadata": {
        "id": "cqvB-p6s4QHb"
      },
      "outputs": [],
      "source": [
        "# 5 - Faça um Programa que converta metros para centímetros"
      ]
    },
    {
      "cell_type": "code",
      "execution_count": null,
      "metadata": {
        "id": "mTp5zUkq4QHb",
        "outputId": "4c0dfd34-7333-4faf-d931-65912c7c2b3c"
      },
      "outputs": [
        {
          "name": "stdout",
          "output_type": "stream",
          "text": [
            "Digite a metragem: 6\n",
            "A metragem em centimetros é de:  600 cm\n"
          ]
        }
      ],
      "source": [
        "metros = int(input(\"Digite a metragem: \"))\n",
        "cent = metros * 100\n",
        "print(\"A metragem em centimetros é de: \", cent,\"cm\")"
      ]
    },
    {
      "cell_type": "code",
      "execution_count": null,
      "metadata": {
        "id": "pEpicV1P4QHc"
      },
      "outputs": [],
      "source": [
        "# 6 - Faça um Programa que peça o raio de um círculo, calcule e mostre sua área."
      ]
    },
    {
      "cell_type": "code",
      "execution_count": null,
      "metadata": {
        "id": "WwiU7Fnt4QHc",
        "outputId": "e1e3f284-8980-40d1-8868-a620684bafd0"
      },
      "outputs": [
        {
          "name": "stdout",
          "output_type": "stream",
          "text": [
            "Digite o raio do círculo: 5\n",
            "A área do círculo é de:  78.5 metros.\n"
          ]
        }
      ],
      "source": [
        "raio = int(input(\"Digite o raio do círculo: \"))\n",
        "pi = float(3.14)\n",
        "area = (raio**2) * pi\n",
        "print(\"A área do círculo é de: \", round(area, 2), \"metros.\")"
      ]
    },
    {
      "cell_type": "code",
      "execution_count": null,
      "metadata": {
        "id": "xK5uwRjA4QHd"
      },
      "outputs": [],
      "source": [
        "# 7 - Faça um Programa que calcule a área de um quadrado, em seguida mostre o dobro desta área."
      ]
    },
    {
      "cell_type": "code",
      "execution_count": null,
      "metadata": {
        "id": "twsD6fx14QHd",
        "outputId": "b9a6212c-40eb-4c5f-b679-2eac1915a3d2"
      },
      "outputs": [
        {
          "name": "stdout",
          "output_type": "stream",
          "text": [
            "Diga a metragem de um lado do quadrado: 3\n",
            "A área do quadrado é  9.0 metros. O dobro da área é  18.0 metros\n"
          ]
        }
      ],
      "source": [
        "lado = float(input(\"Diga a metragem de um lado do quadrado: \"))\n",
        "area = lado ** 2\n",
        "dobro = area *2\n",
        "print(\"A área do quadrado é \", area, \"metros. O dobro da área é \", dobro, \"metros\")"
      ]
    },
    {
      "cell_type": "code",
      "execution_count": null,
      "metadata": {
        "id": "U623UTHI4QHe"
      },
      "outputs": [],
      "source": [
        "# 8 - Faça um Programa que pergunte quanto você ganha por hora e o número de horas trabalhadas no mês. "
      ]
    },
    {
      "cell_type": "code",
      "execution_count": null,
      "metadata": {
        "id": "gPclx-bQ4QHe",
        "outputId": "78fdb429-618e-4fa7-b2af-007276967984"
      },
      "outputs": [
        {
          "name": "stdout",
          "output_type": "stream",
          "text": [
            "Qual o valor ganho por hora? 4\n",
            "Qual o número de horas trabalhadas? 30\n"
          ]
        }
      ],
      "source": [
        "a = float(input(\"Qual o valor ganho por hora? \"))\n",
        "b = float(input(\"Qual o número de horas trabalhadas? \"))\n"
      ]
    },
    {
      "cell_type": "code",
      "execution_count": null,
      "metadata": {
        "id": "_Ap5GijG4QHf"
      },
      "outputs": [],
      "source": [
        "# 9 - Usando as váriaveis do exercício 8, Calcule e mostre o total do seu salário no referido mês."
      ]
    },
    {
      "cell_type": "code",
      "execution_count": null,
      "metadata": {
        "id": "RI0fE0Gz4QHf",
        "outputId": "f412e8f3-1356-4918-e2fe-9b977bb2d1bd"
      },
      "outputs": [
        {
          "name": "stdout",
          "output_type": "stream",
          "text": [
            "O valor ganho neste mês foi de R$  120.00\n"
          ]
        }
      ],
      "source": [
        "c = (a * b)\n",
        "print(\"O valor ganho neste mês foi de R$ \", format(c, '.2f'))"
      ]
    },
    {
      "cell_type": "code",
      "execution_count": null,
      "metadata": {
        "id": "T0zooMvJ4QHh"
      },
      "outputs": [],
      "source": [
        "# 10 - Faça um Programa que peça a temperatura em graus Fahrenheit, transforme e mostre a temperatura em graus Celsius."
      ]
    },
    {
      "cell_type": "code",
      "execution_count": null,
      "metadata": {
        "id": "Hc_RdnVV4QHi",
        "outputId": "6c28365f-e3e6-4ad3-b7cd-10b6deffa30f"
      },
      "outputs": [
        {
          "name": "stdout",
          "output_type": "stream",
          "text": [
            "Qual a temperatura Fahrenheit? 340\n",
            "A temperatura em Celsius é  171 graus.\n"
          ]
        }
      ],
      "source": [
        "a = float (input(\"Qual a temperatura Fahrenheit? \"))\n",
        "b = (a - 32) / 1.8\n",
        "print(\"A temperatura em Celsius é \", format(b, '.0f'), \"graus.\")"
      ]
    },
    {
      "cell_type": "code",
      "execution_count": null,
      "metadata": {
        "id": "twOwyAeD4QHj"
      },
      "outputs": [],
      "source": [
        "# 11 - Faça um Programa que peça 2 números inteiros e um número real. "
      ]
    },
    {
      "cell_type": "code",
      "execution_count": null,
      "metadata": {
        "id": "Axw7jDe_4QHj",
        "outputId": "7d61373c-74af-4de2-bb8e-829570acf567"
      },
      "outputs": [
        {
          "name": "stdout",
          "output_type": "stream",
          "text": [
            "Digite o 1° número inteiro 6\n",
            "Digite o 2° número inteiro 8\n",
            "Digite um número Real 9\n"
          ]
        }
      ],
      "source": [
        "a = int(input(\"Digite o 1° número inteiro \"))\n",
        "b = int(input(\"Digite o 2° número inteiro \"))\n",
        "c = float(input(\"Digite um número Real \"))\n"
      ]
    },
    {
      "cell_type": "code",
      "execution_count": null,
      "metadata": {
        "id": "77f8kRU54QHj"
      },
      "outputs": [],
      "source": [
        "# 12 - Usando as váriaveis do exercício 11, Calcule o produto do dobro do primeiro com metade do segundo."
      ]
    },
    {
      "cell_type": "code",
      "execution_count": null,
      "metadata": {
        "id": "pqkWc5W-4QHk",
        "outputId": "37239bc6-57f0-472c-9422-b8fb3419ed19"
      },
      "outputs": [
        {
          "name": "stdout",
          "output_type": "stream",
          "text": [
            "O produto vale 48.0.\n"
          ]
        }
      ],
      "source": [
        "d = (a * 2) * (b / 2)\n",
        "print(\"O produto vale {}.\".format(d))"
      ]
    },
    {
      "cell_type": "code",
      "execution_count": null,
      "metadata": {
        "id": "aWs5XJMT4QHk"
      },
      "outputs": [],
      "source": [
        "# 13 - Usando as váriaveis do exercício 11, calcule a soma do triplo do primeiro com o terceiro."
      ]
    },
    {
      "cell_type": "code",
      "execution_count": null,
      "metadata": {
        "id": "_Va-UHP04QHk",
        "outputId": "087b93f6-b8f9-4f39-e24a-55274ecff038"
      },
      "outputs": [
        {
          "name": "stdout",
          "output_type": "stream",
          "text": [
            "A soma do triplo do primeiro com o terceiro é 66.0.\n"
          ]
        }
      ],
      "source": [
        "e = (a * 3) + d\n",
        "print(\"A soma do triplo do primeiro com o terceiro é {}.\".format(e, '.2f'))"
      ]
    },
    {
      "cell_type": "code",
      "execution_count": null,
      "metadata": {
        "id": "vLY-4w5o4QHl"
      },
      "outputs": [],
      "source": [
        "# 14 - Usando as váriaveis do exercício 11, calcule o terceiro elevado ao cubo."
      ]
    },
    {
      "cell_type": "code",
      "execution_count": null,
      "metadata": {
        "id": "3wqCA4d64QHl",
        "outputId": "dd81a116-14a6-4d3f-f8cd-dc9c1cb2c0c7"
      },
      "outputs": [
        {
          "name": "stdout",
          "output_type": "stream",
          "text": [
            "O terceiro produto elevado ao cubo é  110592.0\n"
          ]
        }
      ],
      "source": [
        "f = (d**3)\n",
        "print(\"O terceiro produto elevado ao cubo é \", f)"
      ]
    },
    {
      "cell_type": "code",
      "execution_count": null,
      "metadata": {
        "id": "yl-XAB9U4QHl"
      },
      "outputs": [],
      "source": [
        "# 15 - Tendo como dados de entrada a altura e peso de uma pessoa, construa um algoritmo que calcule seu IMC."
      ]
    },
    {
      "cell_type": "code",
      "execution_count": null,
      "metadata": {
        "id": "8SgipCKx4QHl",
        "outputId": "1d98e825-8e37-4dac-dc42-fc3a57854b1c"
      },
      "outputs": [
        {
          "name": "stdout",
          "output_type": "stream",
          "text": [
            "Digite sua altura 1.60\n",
            "Digite seu peso 80\n",
            "Seu IMC no momento é  31.25\n"
          ]
        }
      ],
      "source": [
        "altura = float(input(\"Digite sua altura \"))\n",
        "peso = float(input(\"Digite seu peso \"))\n",
        "imc = peso / (altura **2)\n",
        "print(\"Seu IMC no momento é \", format(imc, '.2f'))"
      ]
    },
    {
      "cell_type": "code",
      "execution_count": null,
      "metadata": {
        "id": "XrPKnTt44QHm"
      },
      "outputs": [],
      "source": [
        "# 16 - Faça um Programa que pergunte a base e a latura de um triângulo e em seguida calcule a sua área."
      ]
    },
    {
      "cell_type": "code",
      "execution_count": null,
      "metadata": {
        "id": "9bK0MUyF4QHm",
        "outputId": "3ee7de88-37b2-4212-d51f-94d70fe5354d"
      },
      "outputs": [
        {
          "name": "stdout",
          "output_type": "stream",
          "text": [
            "Qual a Altura do triângulo em cm? 7\n",
            "Qual a base do triângulo em cm? 8\n",
            "A área do triângulo possui  28 cm.\n"
          ]
        }
      ],
      "source": [
        "alt = int(input(\"Qual a Altura do triângulo em cm? \"))\n",
        "bas = int(input(\"Qual a base do triângulo em cm? \"))\n",
        "area = (bas * alt) / 2\n",
        "print(\"A área do triângulo possui \", round(area), \"cm.\")\n"
      ]
    },
    {
      "cell_type": "code",
      "execution_count": null,
      "metadata": {
        "id": "D-9wnsJg4QHm"
      },
      "outputs": [],
      "source": [
        "# 17 - Usando varáveis do exercício 8, calcule:\n",
        "# IR (11%)\n",
        "# INSS (8%)\n",
        "# Sindicato (1%)\n",
        "# Salário Liquido"
      ]
    },
    {
      "cell_type": "code",
      "execution_count": null,
      "metadata": {
        "id": "YdmGmdqs4QHm",
        "outputId": "136eebf5-2d91-4424-bce1-a81bbfd14400"
      },
      "outputs": [
        {
          "name": "stdout",
          "output_type": "stream",
          "text": [
            "Qual o valor ganho por hora? 5\n",
            "Qual o número de horas trabalhadas? 25\n",
            "O valor total ganho foi de R$  125.00\n",
            "O imposto de renda gerado foi de R$  13.75\n",
            "O valor do Inss gerado foi de R$  10.00\n",
            "O valor do Sindicato gerado foi de R$  1.25\n",
            "O valor Líquido do seu salário foi de R$  100.00\n"
          ]
        }
      ],
      "source": [
        "a = float(input(\"Qual o valor ganho por hora? \"))\n",
        "b = float(input(\"Qual o número de horas trabalhadas? \"))\n",
        "total = a * b\n",
        "imprend = (total * 11) /100\n",
        "inss = (total * 8) /100\n",
        "sind = (total * 1) /100\n",
        "liq = total - (imprend + inss + sind)\n",
        "\n",
        "print(\"O valor total ganho foi de R$ \", format(total, '.2f'))\n",
        "print(\"O imposto de renda gerado foi de R$ \", format(imprend, '.2f'))\n",
        "print(\"O valor do Inss gerado foi de R$ \", format(inss, '.2f'))\n",
        "print(\"O valor do Sindicato gerado foi de R$ \", format(sind, '.2f'))\n",
        "print(\"O valor Líquido do seu salário foi de R$ \",format(liq, '.2f'))"
      ]
    },
    {
      "cell_type": "code",
      "execution_count": null,
      "metadata": {
        "id": "FU3NwAk-4QHn"
      },
      "outputs": [],
      "source": [
        "# 18 - João Papo-de-Pescador, homem de bem, comprou um microcomputador para controlar o rendimento diário de seu trabalho. \n",
        "# Toda vez que ele traz um peso de peixes maior que o estabelecido pelo regulamento de pesca do estado de São Paulo (50 quilos)\n",
        "# deve pagar uma multa de R$ 4,00 por quilo excedente. João precisa que você faça um programa que leia a variável peso de peixes\n",
        "# e calcule o excesso. Gravar na variável excesso a quantidade de quilos além do limite e na variável multa o valor da multa \n",
        "# que João deverá pagar. Imprima os dados do programa com as mensagens adequadas."
      ]
    },
    {
      "cell_type": "code",
      "execution_count": null,
      "metadata": {
        "id": "tNonasbk4QHn",
        "outputId": "6d4ba5f6-8f51-4dc9-9327-0f7da68a3b19"
      },
      "outputs": [
        {
          "name": "stdout",
          "output_type": "stream",
          "text": [
            "Quantos kg pegou de peixe? 70\n",
            "Você passou  20.0 kg do permitido, e por isso pagará a multa no valor de R$  80.00\n"
          ]
        }
      ],
      "source": [
        "peso = float(input(\"Quantos kg pegou de peixe? \"))\n",
        "excesso = peso - 50\n",
        "multa = excesso * 4.00\n",
        "print(\"Você passou \", excesso, \"kg do permitido, e por isso pagará a multa no valor de R$ \", format(multa, '.2f'))\n",
        "\n"
      ]
    },
    {
      "cell_type": "code",
      "execution_count": null,
      "metadata": {
        "id": "O9RU-qzd4QHn"
      },
      "outputs": [],
      "source": [
        ""
      ]
    }
  ],
  "metadata": {
    "kernelspec": {
      "display_name": "Python 3",
      "language": "python",
      "name": "python3"
    },
    "language_info": {
      "codemirror_mode": {
        "name": "ipython",
        "version": 3
      },
      "file_extension": ".py",
      "mimetype": "text/x-python",
      "name": "python",
      "nbconvert_exporter": "python",
      "pygments_lexer": "ipython3",
      "version": "3.8.3"
    },
    "colab": {
      "name": "Andressa exerc tarefa 1.ipynb",
      "provenance": [],
      "include_colab_link": true
    }
  },
  "nbformat": 4,
  "nbformat_minor": 0
}
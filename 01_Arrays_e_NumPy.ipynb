{
  "cells": [
    {
      "cell_type": "markdown",
      "metadata": {
        "id": "hacOMff3y8oz"
      },
      "source": [
        "___\n",
        "# Capítulo 3 - Matemática e Estatística Básicas\n",
        "## Seção 1 - Arrays e NumPy\n",
        "___"
      ]
    },
    {
      "cell_type": "code",
      "execution_count": null,
      "metadata": {
        "collapsed": true,
        "id": "Xyxmfbbqy8o3"
      },
      "outputs": [],
      "source": [
        "import numpy as np\n",
        "from numpy.random import randn"
      ]
    },
    {
      "cell_type": "code",
      "execution_count": null,
      "metadata": {
        "collapsed": true,
        "id": "J2i-rYGRy8o4"
      },
      "outputs": [],
      "source": [
        "np.set_printoptions(precision=2)"
      ]
    },
    {
      "cell_type": "markdown",
      "metadata": {
        "id": "LOkED4Lky8o4"
      },
      "source": [
        "## Criando arrays\n",
        "### Criando arrays usando listas"
      ]
    },
    {
      "cell_type": "code",
      "execution_count": null,
      "metadata": {
        "id": "GLEAkDUiy8o5",
        "outputId": "e0c9964c-998e-454e-8de1-fd5afc800eee"
      },
      "outputs": [
        {
          "data": {
            "text/plain": [
              "array([1, 2, 3, 4, 5, 6])"
            ]
          },
          "execution_count": 3,
          "metadata": {},
          "output_type": "execute_result"
        }
      ],
      "source": [
        "a = np.array([1,2,3,4,5,6])\n",
        "a"
      ]
    },
    {
      "cell_type": "markdown",
      "metadata": {
        "id": "WWnFvz6Yy8o6"
      },
      "source": [
        "### Criando arrays por atribuição"
      ]
    },
    {
      "cell_type": "code",
      "execution_count": null,
      "metadata": {
        "id": "A2NSuPb7y8o6",
        "outputId": "b0b4918c-e0ee-461d-fd53-645300c6ce6d"
      },
      "outputs": [
        {
          "data": {
            "text/plain": [
              "array([  8.22,  36.97, -30.23, -21.28, -34.45,  -8.  ])"
            ]
          },
          "execution_count": 4,
          "metadata": {},
          "output_type": "execute_result"
        }
      ],
      "source": [
        "np.random.seed(25)\n",
        "b = randn(6)\n",
        "b"
      ]
    },
    {
      "cell_type": "code",
      "execution_count": null,
      "metadata": {
        "id": "Ki6Q5KoZy8o8",
        "outputId": "f71dc9ed-532c-437c-bfa5-e0d6f7a101f1"
      },
      "outputs": [
        {
          "data": {
            "text/plain": [
              "array([ 1,  2,  3,  4,  5,  6,  7,  8,  9, 10, 11, 12, 13, 14, 15, 16, 17,\n",
              "       18, 19, 20, 21, 22, 23, 24, 25, 26, 27, 28, 29, 30, 31, 32, 33, 34])"
            ]
          },
          "execution_count": 5,
          "metadata": {},
          "output_type": "execute_result"
        }
      ],
      "source": [
        "c = np.arange(1,35)\n",
        "c"
      ]
    },
    {
      "cell_type": "markdown",
      "metadata": {
        "id": "cLLMEhnAy8o9"
      },
      "source": [
        "## Fazendo operações aritméticas com arrays"
      ]
    },
    {
      "cell_type": "code",
      "execution_count": null,
      "metadata": {
        "id": "VWYCr1K9y8o-",
        "outputId": "9c0de1d9-1325-42e8-e82c-2f2b145b3657"
      },
      "outputs": [
        {
          "data": {
            "text/plain": [
              "array([10, 20, 30, 40, 50, 60])"
            ]
          },
          "execution_count": 6,
          "metadata": {},
          "output_type": "execute_result"
        }
      ],
      "source": [
        "a * 10"
      ]
    },
    {
      "cell_type": "code",
      "execution_count": null,
      "metadata": {
        "id": "GibyEo7Uy8o-",
        "outputId": "59fe728e-2129-4baf-cac3-0cb394c2ee1a"
      },
      "outputs": [
        {
          "data": {
            "text/plain": [
              "array([  9.22,  38.97, -27.23, -17.28, -29.45,  -2.  ])"
            ]
          },
          "execution_count": 7,
          "metadata": {},
          "output_type": "execute_result"
        }
      ],
      "source": [
        "b\n",
        "+ a"
      ]
    }
  ],
  "metadata": {
    "kernelspec": {
      "display_name": "Python 3",
      "language": "python",
      "name": "python3"
    },
    "language_info": {
      "codemirror_mode": {
        "name": "ipython",
        "version": 3
      },
      "file_extension": ".py",
      "mimetype": "text/x-python",
      "name": "python",
      "nbconvert_exporter": "python",
      "pygments_lexer": "ipython3",
      "version": "3.6.2"
    },
    "colab": {
      "name": "01_Arrays_e_NumPy.ipynb",
      "provenance": [],
      "collapsed_sections": []
    }
  },
  "nbformat": 4,
  "nbformat_minor": 0
}
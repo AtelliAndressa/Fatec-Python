{
  "cells": [
    {
      "cell_type": "markdown",
      "metadata": {
        "id": "view-in-github",
        "colab_type": "text"
      },
      "source": [
        "<a href=\"https://colab.research.google.com/github/AtelliAndressa/Fatec-Python/blob/main/ListaExercicios01.ipynb\" target=\"_parent\"><img src=\"https://colab.research.google.com/assets/colab-badge.svg\" alt=\"Open In Colab\"/></a>"
      ]
    },
    {
      "cell_type": "markdown",
      "metadata": {
        "id": "JlVd2lxm58xA"
      },
      "source": [
        "<img src=\"img/logo_fatec.png\">"
      ]
    },
    {
      "cell_type": "markdown",
      "metadata": {
        "id": "LUoWVi8l58xD"
      },
      "source": [
        "# Disciplina: Algoritmos e Introdução a Computação\n",
        "   "
      ]
    },
    {
      "cell_type": "code",
      "execution_count": null,
      "metadata": {
        "id": "fENqaFZX58xG"
      },
      "outputs": [],
      "source": [
        "# Prof. Rafael Christófano\n",
        "# Turma: 2020-2"
      ]
    },
    {
      "cell_type": "code",
      "execution_count": null,
      "metadata": {
        "id": "POulhJnV58xI"
      },
      "outputs": [],
      "source": [
        "# Aluno: Andressa Flavia Atelli de Sá"
      ]
    },
    {
      "cell_type": "markdown",
      "metadata": {
        "id": "F6wzJIE858xJ"
      },
      "source": [
        "# Primeira Lista de Exercícios em Python"
      ]
    },
    {
      "cell_type": "code",
      "execution_count": null,
      "metadata": {
        "id": "gaXTGLSp58xJ"
      },
      "outputs": [],
      "source": [
        "# 1 - Faça um Programa que mostre a mensagem \"Hello World - This is my first code. \\n Many other will come!\" na tela.\n",
        "# Obs: O \\n no meio do texto é para pular para próxima linha"
      ]
    },
    {
      "cell_type": "code",
      "execution_count": null,
      "metadata": {
        "id": "cctpiF4c58xK",
        "outputId": "44712436-5431-43dd-cff6-e96bbf500d9a"
      },
      "outputs": [
        {
          "name": "stdout",
          "output_type": "stream",
          "text": [
            "Hello World - This is my first code. \n",
            " Many other will come!\n"
          ]
        }
      ],
      "source": [
        "print(\"Hello World - This is my first code. \\n Many other will come!\")"
      ]
    },
    {
      "cell_type": "code",
      "execution_count": null,
      "metadata": {
        "id": "0jGDW2Fe58xL"
      },
      "outputs": [],
      "source": [
        "# 2 - Faça um Programa que peça um número e então mostre a mensagem O número informado foi [número]."
      ]
    },
    {
      "cell_type": "code",
      "execution_count": null,
      "metadata": {
        "id": "-RQmoAAQ58xM",
        "outputId": "f4ae65dd-ceaf-4412-a8ef-65bd702d103a"
      },
      "outputs": [
        {
          "name": "stdout",
          "output_type": "stream",
          "text": [
            "Digite um número: 5\n",
            "O número digitado é:  5\n"
          ]
        }
      ],
      "source": [
        "numero = input(\"Digite um número: \")\n",
        "print(\"O número digitado é: \", numero)"
      ]
    },
    {
      "cell_type": "code",
      "execution_count": null,
      "metadata": {
        "id": "r3qRs60858xN"
      },
      "outputs": [],
      "source": [
        "# 3 - Faça um Programa que peça dois números e imprima a soma."
      ]
    },
    {
      "cell_type": "code",
      "execution_count": null,
      "metadata": {
        "id": "PbuE9Tis58xN",
        "outputId": "4e37ae36-1fef-4e54-8a2d-f942bc32752e"
      },
      "outputs": [
        {
          "name": "stdout",
          "output_type": "stream",
          "text": [
            "Digite um numero: 6\n",
            "Digite mais um numero: 7\n",
            "A soma entre o numero  6  e o numero  7  é  13\n"
          ]
        }
      ],
      "source": [
        "n1 = int(input(\"Digite um numero: \"))\n",
        "n2 = int(input(\"Digite mais um numero: \"))\n",
        "soma = n1 + n2\n",
        "print(\"A soma entre o numero \", n1, \" e o numero \", n2, \" é \", soma)\n"
      ]
    },
    {
      "cell_type": "code",
      "execution_count": null,
      "metadata": {
        "id": "XlDDHbTi58xO"
      },
      "outputs": [],
      "source": [
        "# 4 - Faça um Programa que peça as 4 notas bimestrais e mostre a média."
      ]
    },
    {
      "cell_type": "code",
      "execution_count": null,
      "metadata": {
        "id": "JATtD2Vp58xO",
        "outputId": "2f9c6ff8-5435-4341-e34c-288987d952e6"
      },
      "outputs": [
        {
          "name": "stdout",
          "output_type": "stream",
          "text": [
            "Digite a primeira Nota: 9\n",
            "Digite a segunda Nota: 9.6\n",
            "Digite a terceira Nota: 8.7\n",
            "Digite a quarta Nota: 6\n",
            "A média das 4 notas bimestrais é:  8.32\n"
          ]
        }
      ],
      "source": [
        "n1 = float(input(\"Digite a primeira Nota: \"))\n",
        "n2 = float(input(\"Digite a segunda Nota: \"))\n",
        "n3 = float(input(\"Digite a terceira Nota: \"))\n",
        "n4 = float(input(\"Digite a quarta Nota: \"))\n",
        "media = (n1 + n2 + n3 + n4) / 4\n",
        "print (\"A média das 4 notas bimestrais é: \", round(media, 2))"
      ]
    },
    {
      "cell_type": "code",
      "execution_count": null,
      "metadata": {
        "id": "rYizuwWI58xO"
      },
      "outputs": [],
      "source": [
        "# 5 - Faça um Programa que converta metros para centímetros"
      ]
    },
    {
      "cell_type": "code",
      "execution_count": null,
      "metadata": {
        "id": "fh-oBYGb58xP",
        "outputId": "1f9c67db-2334-4be7-edca-2ea660f2c3ee"
      },
      "outputs": [
        {
          "name": "stdout",
          "output_type": "stream",
          "text": [
            "Digite a metragem: 7\n",
            "A metragem em centimetros é de:  700 cm\n"
          ]
        }
      ],
      "source": [
        "metros = int(input(\"Digite a metragem: \"))\n",
        "cent = metros * 100\n",
        "print(\"A metragem em centimetros é de: \", cent,\"cm\")"
      ]
    },
    {
      "cell_type": "code",
      "execution_count": null,
      "metadata": {
        "id": "_-PxgAVo58xP"
      },
      "outputs": [],
      "source": [
        "# 6 - Faça um Programa que peça o raio de um círculo, calcule e mostre sua área."
      ]
    },
    {
      "cell_type": "code",
      "execution_count": null,
      "metadata": {
        "id": "iZVyI0S158xQ",
        "outputId": "d1e6cd9d-e279-44d9-ce68-2de2b7addb5a"
      },
      "outputs": [
        {
          "name": "stdout",
          "output_type": "stream",
          "text": [
            "Digite o raio do círculo: 7\n",
            "A área do círculo é de:  153.86 metros.\n"
          ]
        }
      ],
      "source": [
        "raio = int(input(\"Digite o raio do círculo: \"))\n",
        "pi = float(3.14)\n",
        "area = (raio**2) * pi\n",
        "print(\"A área do círculo é de: \", round(area, 2), \"metros.\")"
      ]
    },
    {
      "cell_type": "code",
      "execution_count": null,
      "metadata": {
        "id": "CNH5T0e858xQ"
      },
      "outputs": [],
      "source": [
        "# 7 - Faça um Programa que calcule a área de um quadrado, em seguida mostre o dobro desta área."
      ]
    },
    {
      "cell_type": "code",
      "execution_count": null,
      "metadata": {
        "id": "e3ccmXo658xQ",
        "outputId": "e6e729d6-7fb9-479a-f689-031806c16180"
      },
      "outputs": [
        {
          "name": "stdout",
          "output_type": "stream",
          "text": [
            "Diga a metragem de um lado do quadrado: 6\n",
            "A área do quadrado é  36.0 metros. O dobro da área é  72.0 metros\n"
          ]
        }
      ],
      "source": [
        "lado = float(input(\"Diga a metragem de um lado do quadrado: \"))\n",
        "area = lado ** 2\n",
        "dobro = area *2\n",
        "print(\"A área do quadrado é \", area, \"metros. O dobro da área é \", dobro, \"metros\")"
      ]
    },
    {
      "cell_type": "code",
      "execution_count": null,
      "metadata": {
        "id": "JoP_7w5m58xQ"
      },
      "outputs": [],
      "source": [
        "# 8 - Faça um Programa que pergunte quanto você ganha por hora e o número de horas trabalhadas no mês. "
      ]
    },
    {
      "cell_type": "code",
      "execution_count": null,
      "metadata": {
        "id": "dsfYCyhS58xR",
        "outputId": "74826423-1cc3-47d1-96d8-b9621bd7401f"
      },
      "outputs": [
        {
          "name": "stdout",
          "output_type": "stream",
          "text": [
            "Qual o valor ganho por hora? 5\n",
            "Qual o número de horas trabalhadas? 25\n",
            "O valor ganho por hora é de R$  5.00 , e, o número de horas trabalhadas foi  25.0 hrs.\n"
          ]
        }
      ],
      "source": [
        "a = float(input(\"Qual o valor ganho por hora? \"))\n",
        "b = float(input(\"Qual o número de horas trabalhadas? \"))\n",
        "print(\"O valor ganho por hora é de R$ \", format(a, '0.2f'), \", e, o número de horas trabalhadas foi \", b, \"hrs.\")"
      ]
    },
    {
      "cell_type": "code",
      "execution_count": null,
      "metadata": {
        "id": "TGMXf3Qk58xR"
      },
      "outputs": [],
      "source": [
        "# 9 - Usando as váriaveis do exercício 8, Calcule e mostre o total do seu salário no referido mês."
      ]
    },
    {
      "cell_type": "code",
      "execution_count": null,
      "metadata": {
        "id": "ylHiMyOa58xR",
        "outputId": "5c6fe26d-c6ce-4291-950c-568bf2ddf6c1"
      },
      "outputs": [
        {
          "name": "stdout",
          "output_type": "stream",
          "text": [
            "Qual o valor ganho por hora? 5\n",
            "Qual o número de horas trabalhadas? 25\n",
            "O valor ganho neste mês foi de R$  125.00\n"
          ]
        }
      ],
      "source": [
        "a = float(input(\"Qual o valor ganho por hora? \"))\n",
        "b = float(input(\"Qual o número de horas trabalhadas? \"))\n",
        "c = (a * b)\n",
        "print(\"O valor ganho neste mês foi de R$ \", format(c, '.2f'))"
      ]
    },
    {
      "cell_type": "code",
      "execution_count": null,
      "metadata": {
        "id": "cu5_A9Yk58xS"
      },
      "outputs": [],
      "source": [
        "# 10 - Faça um Programa que peça a temperatura em graus Fahrenheit, transforme e mostre a temperatura em graus Celsius."
      ]
    },
    {
      "cell_type": "code",
      "execution_count": null,
      "metadata": {
        "id": "XCGRXywl58xS"
      },
      "outputs": [],
      "source": [
        "a = float (input(\"Qual a temperatura Fahrenheit? \"))\n",
        "b = (a - 32) / 1.8\n",
        "print(\"A temperatura em Celsius é \", format(b, '.0f'), \"graus.\")"
      ]
    },
    {
      "cell_type": "code",
      "execution_count": null,
      "metadata": {
        "id": "dSZcOF1U58xS"
      },
      "outputs": [],
      "source": [
        "# 11 - Faça um Programa que peça 2 números inteiros e um número real. "
      ]
    },
    {
      "cell_type": "code",
      "execution_count": null,
      "metadata": {
        "id": "yO45E0mK58xS",
        "outputId": "95b5ce71-71c8-4587-e6dc-33897e9c4c15"
      },
      "outputs": [
        {
          "name": "stdout",
          "output_type": "stream",
          "text": [
            "Digite o 1° número inteiro 5\n",
            "Digite o 2° número inteiro 4\n",
            "Digite um número Real 5\n",
            "Os numeros são 5, 4 e 5.0.\n"
          ]
        }
      ],
      "source": [
        "a = int(input(\"Digite o 1° número inteiro \"))\n",
        "b = int(input(\"Digite o 2° número inteiro \"))\n",
        "c = float(input(\"Digite um número Real \"))\n",
        "print(\"Os numeros são {}, {} e {}.\".format(a, b, c))"
      ]
    },
    {
      "cell_type": "code",
      "execution_count": null,
      "metadata": {
        "id": "A3MeNS3158xT"
      },
      "outputs": [],
      "source": [
        "# 12 - Usando as váriaveis do exercício 11, Calcule o produto do dobro do primeiro com metade do segundo."
      ]
    },
    {
      "cell_type": "code",
      "execution_count": null,
      "metadata": {
        "id": "Epoheokz58xT",
        "outputId": "2862b182-7bd4-45e4-8675-571346e627a4"
      },
      "outputs": [
        {
          "name": "stdout",
          "output_type": "stream",
          "text": [
            "O produto vale 15.0.\n"
          ]
        }
      ],
      "source": [
        "d = (a * 2) + (b / 2)\n",
        "print(\"O produto vale {}.\".format(d))"
      ]
    },
    {
      "cell_type": "code",
      "execution_count": null,
      "metadata": {
        "id": "eWFKqe3358xT"
      },
      "outputs": [],
      "source": [
        "# 13 - Usando as váriaveis do exercício 11, calcule a soma do triplo do primeiro com o terceiro."
      ]
    },
    {
      "cell_type": "code",
      "execution_count": null,
      "metadata": {
        "id": "NMej9rXF58xT",
        "outputId": "6fead779-35c5-497d-e415-d98e7e488db8"
      },
      "outputs": [
        {
          "name": "stdout",
          "output_type": "stream",
          "text": [
            "A soma do triplo do primeiro com o terceiro é 33.0.\n"
          ]
        }
      ],
      "source": [
        "e = (a * 3) + d\n",
        "print(\"A soma do triplo do primeiro com o terceiro é {}.\".format(e, '.2f'))"
      ]
    },
    {
      "cell_type": "code",
      "execution_count": null,
      "metadata": {
        "id": "p7KK20vO58xU"
      },
      "outputs": [],
      "source": [
        "# 14 - Usando as váriaveis do exercício 11, calcule o terceiro elevado ao cubo."
      ]
    },
    {
      "cell_type": "code",
      "execution_count": null,
      "metadata": {
        "id": "gmbQQqgd58xU",
        "outputId": "187955f6-100f-4530-d196-ffa594749220"
      },
      "outputs": [
        {
          "name": "stdout",
          "output_type": "stream",
          "text": [
            "O terceiro produto elevado ao cubo é 3375.0\n"
          ]
        }
      ],
      "source": [
        "f = (d**3)\n",
        "print(\"O terceiro produto elevado ao cubo é {}\".format(f, '.2f'))"
      ]
    },
    {
      "cell_type": "code",
      "execution_count": null,
      "metadata": {
        "id": "8IVXT5pU58xU"
      },
      "outputs": [],
      "source": [
        "# 15 - Tendo como dados de entrada a altura e peso de uma pessoa, construa um algoritmo que calcule seu IMC."
      ]
    },
    {
      "cell_type": "code",
      "execution_count": null,
      "metadata": {
        "id": "_PlM1Kak58xU",
        "outputId": "4f990e01-fb1b-4b5b-d4c1-989cc5355913"
      },
      "outputs": [
        {
          "name": "stdout",
          "output_type": "stream",
          "text": [
            "Digite sua altura 1.60\n",
            "Digite seu peso 80\n",
            "Seu IMC no momento é  31.25\n"
          ]
        }
      ],
      "source": [
        "altura = float(input(\"Digite sua altura \"))\n",
        "peso = float(input(\"Digite seu peso \"))\n",
        "imc = peso / (altura **2)\n",
        "print(\"Seu IMC no momento é \", format(imc, '.2f'))"
      ]
    },
    {
      "cell_type": "code",
      "execution_count": null,
      "metadata": {
        "id": "zr5bEMpU58xV"
      },
      "outputs": [],
      "source": [
        "# 16 - Faça um Programa que pergunte a base e a latura de um triângulo e em seguida calcule a sua área."
      ]
    },
    {
      "cell_type": "code",
      "execution_count": null,
      "metadata": {
        "id": "449UtVZo58xW",
        "outputId": "20c9b399-431c-466f-a348-efda6477d5c2"
      },
      "outputs": [
        {
          "name": "stdout",
          "output_type": "stream",
          "text": [
            "Qual a Altura do triângulo em cm? 4\n",
            "Qual a base do triângulo em cm? 6\n",
            "A área do triângulo possui  12 cm.\n"
          ]
        }
      ],
      "source": [
        "alt = int(input(\"Qual a Altura do triângulo em cm? \"))\n",
        "bas = int(input(\"Qual a base do triângulo em cm? \"))\n",
        "area = (bas * alt) / 2\n",
        "print(\"A área do triângulo possui \", round(area), \"cm.\")\n"
      ]
    },
    {
      "cell_type": "code",
      "execution_count": null,
      "metadata": {
        "id": "V_Jvg7Yi58xW"
      },
      "outputs": [],
      "source": [
        "# 17 - Usando varáveis do exercício 8, calcule:\n",
        "# IR (11%)\n",
        "# INSS (8%)\n",
        "# Sindicato (1%)\n",
        "# Salário Liquido"
      ]
    },
    {
      "cell_type": "code",
      "execution_count": null,
      "metadata": {
        "id": "cPPAtG4B58xW",
        "outputId": "f86166cd-04fe-4c2f-bf9e-ccd785701449"
      },
      "outputs": [
        {
          "name": "stdout",
          "output_type": "stream",
          "text": [
            "Qual o valor ganho por hora? 5\n",
            "Qual o número de horas trabalhadas? 25\n",
            "O valor total ganho foi de R$  125.00\n",
            "O imposto de renda gerado foi de R$  13.75\n",
            "O valor do Inss gerado foi de R$  10.00\n",
            "O valor do Sindicato gerado foi de R$  1.25\n",
            "O valor Líquido do seu salário foi de R$  100.00\n"
          ]
        }
      ],
      "source": [
        "a = float(input(\"Qual o valor ganho por hora? \"))\n",
        "b = float(input(\"Qual o número de horas trabalhadas? \"))\n",
        "total = a * b\n",
        "imprend = (total * 11) /100\n",
        "inss = (total * 8) /100\n",
        "sind = (total * 1) /100\n",
        "liq = total - (imprend + inss + sind)\n",
        "\n",
        "print(\"O valor total ganho foi de R$ \", format(total, '.2f'))\n",
        "print(\"O imposto de renda gerado foi de R$ \", format(imprend, '.2f'))\n",
        "print(\"O valor do Inss gerado foi de R$ \", format(inss, '.2f'))\n",
        "print(\"O valor do Sindicato gerado foi de R$ \", format(sind, '.2f'))\n",
        "print(\"O valor Líquido do seu salário foi de R$ \",format(liq, '.2f'))"
      ]
    },
    {
      "cell_type": "code",
      "execution_count": null,
      "metadata": {
        "id": "raJxAjmb58xW"
      },
      "outputs": [],
      "source": [
        "# 18 - João Papo-de-Pescador, homem de bem, comprou um microcomputador para controlar o rendimento diário de seu trabalho. \n",
        "# Toda vez que ele traz um peso de peixes maior que o estabelecido pelo regulamento de pesca do estado de São Paulo (50 quilos)\n",
        "# deve pagar uma multa de R$ 4,00 por quilo excedente. João precisa que você faça um programa que leia a variável peso de peixes\n",
        "# e calcule o excesso. Gravar na variável excesso a quantidade de quilos além do limite e na variável multa o valor da multa \n",
        "# que João deverá pagar. Imprima os dados do programa com as mensagens adequadas."
      ]
    },
    {
      "cell_type": "code",
      "execution_count": null,
      "metadata": {
        "id": "GOjHx43258xW",
        "outputId": "8e0f7dde-d0f4-44e6-fc82-be8243ef339c"
      },
      "outputs": [
        {
          "name": "stdout",
          "output_type": "stream",
          "text": [
            "Quantos kg pegou de peixe?55\n",
            "Você passou  5.0 kg do permitido, e por isso pagará a multa no valor de R$  20.00\n"
          ]
        }
      ],
      "source": [
        "peso = float(input(\"Quantos kg pegou de peixe?\"))\n",
        "excesso = peso - 50\n",
        "multa = excesso * 4.00\n",
        "print(\"Você passou \", excesso, \"kg do permitido, e por isso pagará a multa no valor de R$ \", format(multa, '.2f'))\n",
        "\n"
      ]
    },
    {
      "cell_type": "code",
      "execution_count": null,
      "metadata": {
        "id": "0ku6MyVN58xX"
      },
      "outputs": [],
      "source": [
        ""
      ]
    }
  ],
  "metadata": {
    "kernelspec": {
      "display_name": "Python 3",
      "language": "python",
      "name": "python3"
    },
    "language_info": {
      "codemirror_mode": {
        "name": "ipython",
        "version": 3
      },
      "file_extension": ".py",
      "mimetype": "text/x-python",
      "name": "python",
      "nbconvert_exporter": "python",
      "pygments_lexer": "ipython3",
      "version": "3.8.3"
    },
    "colab": {
      "name": "ListaExercicios01.ipynb",
      "provenance": [],
      "include_colab_link": true
    }
  },
  "nbformat": 4,
  "nbformat_minor": 0
}
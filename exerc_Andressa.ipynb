{
  "cells": [
    {
      "cell_type": "markdown",
      "metadata": {
        "id": "view-in-github",
        "colab_type": "text"
      },
      "source": [
        "<a href=\"https://colab.research.google.com/github/AtelliAndressa/Fatec-Python/blob/main/exerc_Andressa.ipynb\" target=\"_parent\"><img src=\"https://colab.research.google.com/assets/colab-badge.svg\" alt=\"Open In Colab\"/></a>"
      ]
    },
    {
      "cell_type": "markdown",
      "metadata": {
        "id": "7s_AybgL4wkw"
      },
      "source": [
        "<img src=\"img/logo_fatec.png\">"
      ]
    },
    {
      "cell_type": "markdown",
      "metadata": {
        "id": "RXfOINal4wk0"
      },
      "source": [
        "# Disciplina: Algoritmos e Introdução a Computação\n",
        "   "
      ]
    },
    {
      "cell_type": "code",
      "execution_count": null,
      "metadata": {
        "id": "bXDucAwX4wk1"
      },
      "outputs": [],
      "source": [
        "# Prof. Rafael Christófano\n",
        "# Turma: 2020-2"
      ]
    },
    {
      "cell_type": "code",
      "execution_count": null,
      "metadata": {
        "id": "r2GyGnps4wk3"
      },
      "outputs": [],
      "source": [
        "# Aluno: Andressa Flavia Atelli de Sá"
      ]
    },
    {
      "cell_type": "markdown",
      "metadata": {
        "id": "N7h3gYUO4wk3"
      },
      "source": [
        "# Primeira Lista de Exercícios em Python"
      ]
    },
    {
      "cell_type": "code",
      "execution_count": null,
      "metadata": {
        "id": "MDVRMipu4wk4"
      },
      "outputs": [],
      "source": [
        "# 1 - Faça um Programa que mostre a mensagem \"Hello World - This is my first code. \\n Many other will come!\" na tela.\n",
        "# Obs: O \\n no meio do texto é para pular para próxima linha"
      ]
    },
    {
      "cell_type": "code",
      "execution_count": null,
      "metadata": {
        "id": "QVWXs8AL4wk4",
        "outputId": "fc60030b-d4ec-4047-a9e8-8109097cadf5"
      },
      "outputs": [
        {
          "name": "stdout",
          "output_type": "stream",
          "text": [
            "Hello World - This is my first code. \n",
            " Many other will come!\n"
          ]
        }
      ],
      "source": [
        "print(\"Hello World - This is my first code. \\n Many other will come!\")"
      ]
    },
    {
      "cell_type": "code",
      "execution_count": null,
      "metadata": {
        "id": "NCoRhlBz4wk6"
      },
      "outputs": [],
      "source": [
        "# 2 - Faça um Programa que peça um número e então mostre a mensagem O número informado foi [número]."
      ]
    },
    {
      "cell_type": "code",
      "execution_count": null,
      "metadata": {
        "id": "wQ6SQ_0Z4wk8",
        "outputId": "57655568-6fc2-41f7-aad5-b72b6fc1b0e3"
      },
      "outputs": [
        {
          "name": "stdout",
          "output_type": "stream",
          "text": [
            "Digite um número: 8\n",
            "O número digitado é:  8\n"
          ]
        }
      ],
      "source": [
        "numero = input(\"Digite um número: \")\n",
        "print(\"O número digitado é: \", numero)"
      ]
    },
    {
      "cell_type": "code",
      "execution_count": null,
      "metadata": {
        "id": "t-rdw8774wk9"
      },
      "outputs": [],
      "source": [
        "# 3 - Faça um Programa que peça dois números e imprima a soma."
      ]
    },
    {
      "cell_type": "code",
      "execution_count": null,
      "metadata": {
        "id": "yfxd5XLT4wk-",
        "outputId": "eba29af6-75d4-43c4-9612-60ab50d9bc0e"
      },
      "outputs": [
        {
          "name": "stdout",
          "output_type": "stream",
          "text": [
            "Digite um numero: 3\n",
            "Digite mais um numero: 9\n",
            "A soma entre o numero  3  e o numero  9  é  12\n"
          ]
        }
      ],
      "source": [
        "n1 = int(input(\"Digite um numero: \"))\n",
        "n2 = int(input(\"Digite mais um numero: \"))\n",
        "soma = n1 + n2\n",
        "print(\"A soma entre o numero \", n1, \" e o numero \", n2, \" é \", soma)\n"
      ]
    },
    {
      "cell_type": "code",
      "execution_count": null,
      "metadata": {
        "id": "UuJDmeHE4wk_"
      },
      "outputs": [],
      "source": [
        "# 4 - Faça um Programa que peça as 4 notas bimestrais e mostre a média."
      ]
    },
    {
      "cell_type": "code",
      "execution_count": null,
      "metadata": {
        "id": "Vt07WoJg4wk_",
        "outputId": "a0d1de2c-d193-4531-e655-c8fb0a3b7a6c"
      },
      "outputs": [
        {
          "name": "stdout",
          "output_type": "stream",
          "text": [
            "Digite a primeira Nota: 7.5\n",
            "Digite a segunda Nota: 8.5\n",
            "Digite a terceira Nota: 9.\n",
            "Digite a quarta Nota: 10\n",
            "A média das 4 notas bimestrais é:  8.75\n"
          ]
        }
      ],
      "source": [
        "n1 = float(input(\"Digite a primeira Nota: \"))\n",
        "n2 = float(input(\"Digite a segunda Nota: \"))\n",
        "n3 = float(input(\"Digite a terceira Nota: \"))\n",
        "n4 = float(input(\"Digite a quarta Nota: \"))\n",
        "media = (n1 + n2 + n3 + n4) / 4\n",
        "print (\"A média das 4 notas bimestrais é: \", round(media, 2))"
      ]
    },
    {
      "cell_type": "code",
      "execution_count": null,
      "metadata": {
        "id": "6bB_oCXS4wlA"
      },
      "outputs": [],
      "source": [
        "# 5 - Faça um Programa que converta metros para centímetros"
      ]
    },
    {
      "cell_type": "code",
      "execution_count": null,
      "metadata": {
        "id": "URkbt2fD4wlA",
        "outputId": "7bbd3dd6-e360-4e0a-bd80-7f65b3b121be"
      },
      "outputs": [
        {
          "name": "stdout",
          "output_type": "stream",
          "text": [
            "Digite a metragem: 6\n",
            "A metragem em centimetros é de:  600 cm\n"
          ]
        }
      ],
      "source": [
        "metros = int(input(\"Digite a metragem: \"))\n",
        "cent = metros * 100\n",
        "print(\"A metragem em centimetros é de: \", cent,\"cm\")"
      ]
    },
    {
      "cell_type": "code",
      "execution_count": null,
      "metadata": {
        "id": "evNN_m0Y4wlB"
      },
      "outputs": [],
      "source": [
        "# 6 - Faça um Programa que peça o raio de um círculo, calcule e mostre sua área."
      ]
    },
    {
      "cell_type": "code",
      "execution_count": null,
      "metadata": {
        "id": "6W2LqE5R4wlC",
        "outputId": "283932a0-8231-4b29-c32a-37453a0bcbe6"
      },
      "outputs": [
        {
          "name": "stdout",
          "output_type": "stream",
          "text": [
            "Digite o raio do círculo: 5\n",
            "A área do círculo é de:  78.5 metros.\n"
          ]
        }
      ],
      "source": [
        "raio = int(input(\"Digite o raio do círculo: \"))\n",
        "pi = float(3.14)\n",
        "area = (raio**2) * pi\n",
        "print(\"A área do círculo é de: \", round(area, 2), \"metros.\")"
      ]
    },
    {
      "cell_type": "code",
      "execution_count": null,
      "metadata": {
        "id": "elgwkeMs4wlC"
      },
      "outputs": [],
      "source": [
        "# 7 - Faça um Programa que calcule a área de um quadrado, em seguida mostre o dobro desta área."
      ]
    },
    {
      "cell_type": "code",
      "execution_count": null,
      "metadata": {
        "id": "us78M_IQ4wlC",
        "outputId": "5f0412ec-187a-4681-d5ce-9bdfa7a36e35"
      },
      "outputs": [
        {
          "name": "stdout",
          "output_type": "stream",
          "text": [
            "Diga a metragem de um lado do quadrado: 3\n",
            "A área do quadrado é  9.0 metros. O dobro da área é  18.0 metros\n"
          ]
        }
      ],
      "source": [
        "lado = float(input(\"Diga a metragem de um lado do quadrado: \"))\n",
        "area = lado ** 2\n",
        "dobro = area *2\n",
        "print(\"A área do quadrado é \", area, \"metros. O dobro da área é \", dobro, \"metros\")"
      ]
    },
    {
      "cell_type": "code",
      "execution_count": null,
      "metadata": {
        "id": "IC1vJphi4wlD"
      },
      "outputs": [],
      "source": [
        "# 8 - Faça um Programa que pergunte quanto você ganha por hora e o número de horas trabalhadas no mês. "
      ]
    },
    {
      "cell_type": "code",
      "execution_count": null,
      "metadata": {
        "id": "b1whpD2a4wlD",
        "outputId": "4f8ae0e5-8764-4f44-e41f-46d9aa1b4d47"
      },
      "outputs": [
        {
          "name": "stdout",
          "output_type": "stream",
          "text": [
            "Qual o valor ganho por hora? 2\n",
            "Qual o número de horas trabalhadas? 28\n",
            "O valor ganho por hora é de R$  2.00 , e, o número de horas trabalhadas foi  28.0 hrs.\n"
          ]
        }
      ],
      "source": [
        "a = float(input(\"Qual o valor ganho por hora? \"))\n",
        "b = float(input(\"Qual o número de horas trabalhadas? \"))\n",
        "print(\"O valor ganho por hora é de R$ \", format(a, '0.2f'), \", e, o número de horas trabalhadas foi \", b, \"hrs.\")"
      ]
    },
    {
      "cell_type": "code",
      "execution_count": null,
      "metadata": {
        "id": "D-SUHReU4wlE"
      },
      "outputs": [],
      "source": [
        "# 9 - Usando as váriaveis do exercício 8, Calcule e mostre o total do seu salário no referido mês."
      ]
    },
    {
      "cell_type": "code",
      "execution_count": null,
      "metadata": {
        "id": "V-ZYFpCU4wlH",
        "outputId": "a7a415a0-9afa-4f68-e1aa-a096e3c1d5b6"
      },
      "outputs": [
        {
          "name": "stdout",
          "output_type": "stream",
          "text": [
            "Qual o valor ganho por hora? 4\n",
            "Qual o número de horas trabalhadas? 35\n",
            "O valor ganho neste mês foi de R$  140.00\n"
          ]
        }
      ],
      "source": [
        "a = float(input(\"Qual o valor ganho por hora? \"))\n",
        "b = float(input(\"Qual o número de horas trabalhadas? \"))\n",
        "c = (a * b)\n",
        "print(\"O valor ganho neste mês foi de R$ \", format(c, '.2f'))"
      ]
    },
    {
      "cell_type": "code",
      "execution_count": null,
      "metadata": {
        "id": "y7LRnku24wlH"
      },
      "outputs": [],
      "source": [
        "# 10 - Faça um Programa que peça a temperatura em graus Fahrenheit, transforme e mostre a temperatura em graus Celsius."
      ]
    },
    {
      "cell_type": "code",
      "execution_count": null,
      "metadata": {
        "id": "U7WosbMR4wlI"
      },
      "outputs": [],
      "source": [
        "a = float (input(\"Qual a temperatura Fahrenheit? \"))\n",
        "b = (a - 32) / 1.8\n",
        "print(\"A temperatura em Celsius é \", format(b, '.0f'), \"graus.\")"
      ]
    },
    {
      "cell_type": "code",
      "execution_count": null,
      "metadata": {
        "id": "FLWzMCPX4wlI"
      },
      "outputs": [],
      "source": [
        "# 11 - Faça um Programa que peça 2 números inteiros e um número real. "
      ]
    },
    {
      "cell_type": "code",
      "execution_count": null,
      "metadata": {
        "id": "PkLS78Gs4wlI",
        "outputId": "63eb38cf-216f-4395-ce45-1552c507aaf6"
      },
      "outputs": [
        {
          "name": "stdout",
          "output_type": "stream",
          "text": [
            "Digite o 1° número inteiro 5\n",
            "Digite o 2° número inteiro 4\n",
            "Digite um número Real 5\n",
            "Os numeros são 5, 4 e 5.0.\n"
          ]
        }
      ],
      "source": [
        "a = int(input(\"Digite o 1° número inteiro \"))\n",
        "b = int(input(\"Digite o 2° número inteiro \"))\n",
        "c = float(input(\"Digite um número Real \"))\n",
        "print(\"Os numeros são {}, {} e {}.\".format(a, b, c))"
      ]
    },
    {
      "cell_type": "code",
      "execution_count": null,
      "metadata": {
        "id": "slEvDt3s4wlJ"
      },
      "outputs": [],
      "source": [
        "# 12 - Usando as váriaveis do exercício 11, Calcule o produto do dobro do primeiro com metade do segundo."
      ]
    },
    {
      "cell_type": "code",
      "execution_count": null,
      "metadata": {
        "id": "fOPk41734wlJ",
        "outputId": "92785335-2fb1-4fb3-9e32-323fa15abe82"
      },
      "outputs": [
        {
          "name": "stdout",
          "output_type": "stream",
          "text": [
            "O produto vale 15.0.\n"
          ]
        }
      ],
      "source": [
        "d = (a * 2) + (b / 2)\n",
        "print(\"O produto vale {}.\".format(d))"
      ]
    },
    {
      "cell_type": "code",
      "execution_count": null,
      "metadata": {
        "id": "89ZRSBdX4wlK"
      },
      "outputs": [],
      "source": [
        "# 13 - Usando as váriaveis do exercício 11, calcule a soma do triplo do primeiro com o terceiro."
      ]
    },
    {
      "cell_type": "code",
      "execution_count": null,
      "metadata": {
        "id": "O850f8Sz4wlK",
        "outputId": "adef6812-cd48-46c1-95c0-836816403b96"
      },
      "outputs": [
        {
          "name": "stdout",
          "output_type": "stream",
          "text": [
            "A soma do triplo do primeiro com o terceiro é 33.0.\n"
          ]
        }
      ],
      "source": [
        "e = (a * 3) + d\n",
        "print(\"A soma do triplo do primeiro com o terceiro é {}.\".format(e, '.2f'))"
      ]
    },
    {
      "cell_type": "code",
      "execution_count": null,
      "metadata": {
        "id": "h-MPlLje4wlK"
      },
      "outputs": [],
      "source": [
        "# 14 - Usando as váriaveis do exercício 11, calcule o terceiro elevado ao cubo."
      ]
    },
    {
      "cell_type": "code",
      "execution_count": null,
      "metadata": {
        "id": "JnyqyEBl4wlK",
        "outputId": "044e1380-3e6b-4f25-fc29-7d84fa31de6d"
      },
      "outputs": [
        {
          "name": "stdout",
          "output_type": "stream",
          "text": [
            "O terceiro produto elevado ao cubo é 3375.0\n"
          ]
        }
      ],
      "source": [
        "f = (d**3)\n",
        "print(\"O terceiro produto elevado ao cubo é {}\".format(f, '.2f'))"
      ]
    },
    {
      "cell_type": "code",
      "execution_count": null,
      "metadata": {
        "id": "hHHThHrt4wlL"
      },
      "outputs": [],
      "source": [
        "# 15 - Tendo como dados de entrada a altura e peso de uma pessoa, construa um algoritmo que calcule seu IMC."
      ]
    },
    {
      "cell_type": "code",
      "execution_count": null,
      "metadata": {
        "id": "6OMqWNFw4wlL",
        "outputId": "e3d46321-f02d-49d5-c54c-581f12bbfae7"
      },
      "outputs": [
        {
          "name": "stdout",
          "output_type": "stream",
          "text": [
            "Digite sua altura 1.60\n",
            "Digite seu peso 80\n",
            "Seu IMC no momento é  31.25\n"
          ]
        }
      ],
      "source": [
        "altura = float(input(\"Digite sua altura \"))\n",
        "peso = float(input(\"Digite seu peso \"))\n",
        "imc = peso / (altura **2)\n",
        "print(\"Seu IMC no momento é \", format(imc, '.2f'))"
      ]
    },
    {
      "cell_type": "code",
      "execution_count": null,
      "metadata": {
        "id": "Ia3hWIej4wlM"
      },
      "outputs": [],
      "source": [
        "# 16 - Faça um Programa que pergunte a base e a latura de um triângulo e em seguida calcule a sua área."
      ]
    },
    {
      "cell_type": "code",
      "execution_count": null,
      "metadata": {
        "id": "ZlmGDPy84wlM",
        "outputId": "894f5365-5d96-4ffb-8dd3-e52117f78c45"
      },
      "outputs": [
        {
          "name": "stdout",
          "output_type": "stream",
          "text": [
            "Qual a Altura do triângulo em cm? 7\n",
            "Qual a base do triângulo em cm? 8\n",
            "A área do triângulo possui  28 cm.\n"
          ]
        }
      ],
      "source": [
        "alt = int(input(\"Qual a Altura do triângulo em cm? \"))\n",
        "bas = int(input(\"Qual a base do triângulo em cm? \"))\n",
        "area = (bas * alt) / 2\n",
        "print(\"A área do triângulo possui \", round(area), \"cm.\")\n"
      ]
    },
    {
      "cell_type": "code",
      "execution_count": null,
      "metadata": {
        "id": "OKKOvMd04wlM"
      },
      "outputs": [],
      "source": [
        "# 17 - Usando varáveis do exercício 8, calcule:\n",
        "# IR (11%)\n",
        "# INSS (8%)\n",
        "# Sindicato (1%)\n",
        "# Salário Liquido"
      ]
    },
    {
      "cell_type": "code",
      "execution_count": null,
      "metadata": {
        "id": "EmhtSoyp4wlN",
        "outputId": "2296bc06-ad8d-431c-a140-492d25662a69"
      },
      "outputs": [
        {
          "name": "stdout",
          "output_type": "stream",
          "text": [
            "Qual o valor ganho por hora? 5\n",
            "Qual o número de horas trabalhadas? 25\n",
            "O valor total ganho foi de R$  125.00\n",
            "O imposto de renda gerado foi de R$  13.75\n",
            "O valor do Inss gerado foi de R$  10.00\n",
            "O valor do Sindicato gerado foi de R$  1.25\n",
            "O valor Líquido do seu salário foi de R$  100.00\n"
          ]
        }
      ],
      "source": [
        "a = float(input(\"Qual o valor ganho por hora? \"))\n",
        "b = float(input(\"Qual o número de horas trabalhadas? \"))\n",
        "total = a * b\n",
        "imprend = (total * 11) /100\n",
        "inss = (total * 8) /100\n",
        "sind = (total * 1) /100\n",
        "liq = total - (imprend + inss + sind)\n",
        "\n",
        "print(\"O valor total ganho foi de R$ \", format(total, '.2f'))\n",
        "print(\"O imposto de renda gerado foi de R$ \", format(imprend, '.2f'))\n",
        "print(\"O valor do Inss gerado foi de R$ \", format(inss, '.2f'))\n",
        "print(\"O valor do Sindicato gerado foi de R$ \", format(sind, '.2f'))\n",
        "print(\"O valor Líquido do seu salário foi de R$ \",format(liq, '.2f'))"
      ]
    },
    {
      "cell_type": "code",
      "execution_count": null,
      "metadata": {
        "id": "GEhXfqpb4wlN"
      },
      "outputs": [],
      "source": [
        "# 18 - João Papo-de-Pescador, homem de bem, comprou um microcomputador para controlar o rendimento diário de seu trabalho. \n",
        "# Toda vez que ele traz um peso de peixes maior que o estabelecido pelo regulamento de pesca do estado de São Paulo (50 quilos)\n",
        "# deve pagar uma multa de R$ 4,00 por quilo excedente. João precisa que você faça um programa que leia a variável peso de peixes\n",
        "# e calcule o excesso. Gravar na variável excesso a quantidade de quilos além do limite e na variável multa o valor da multa \n",
        "# que João deverá pagar. Imprima os dados do programa com as mensagens adequadas."
      ]
    },
    {
      "cell_type": "code",
      "execution_count": null,
      "metadata": {
        "id": "pKx9HCb84wlN",
        "outputId": "47c7ec85-27dc-45b7-9d0d-6997743038e2"
      },
      "outputs": [
        {
          "name": "stdout",
          "output_type": "stream",
          "text": [
            "Quantos kg pegou de peixe? 70\n",
            "Você passou  20.0 kg do permitido, e por isso pagará a multa no valor de R$  80.00\n"
          ]
        }
      ],
      "source": [
        "peso = float(input(\"Quantos kg pegou de peixe? \"))\n",
        "excesso = peso - 50\n",
        "multa = excesso * 4.00\n",
        "print(\"Você passou \", excesso, \"kg do permitido, e por isso pagará a multa no valor de R$ \", format(multa, '.2f'))\n",
        "\n"
      ]
    },
    {
      "cell_type": "code",
      "execution_count": null,
      "metadata": {
        "id": "GOnM6F9Z4wlN"
      },
      "outputs": [],
      "source": [
        ""
      ]
    }
  ],
  "metadata": {
    "kernelspec": {
      "display_name": "Python 3",
      "language": "python",
      "name": "python3"
    },
    "language_info": {
      "codemirror_mode": {
        "name": "ipython",
        "version": 3
      },
      "file_extension": ".py",
      "mimetype": "text/x-python",
      "name": "python",
      "nbconvert_exporter": "python",
      "pygments_lexer": "ipython3",
      "version": "3.8.3"
    },
    "colab": {
      "name": "exerc Andressa.ipynb",
      "provenance": [],
      "include_colab_link": true
    }
  },
  "nbformat": 4,
  "nbformat_minor": 0
}